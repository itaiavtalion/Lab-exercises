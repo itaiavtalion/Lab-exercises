{
 "cells": [
  {
   "cell_type": "code",
   "execution_count": 1,
   "id": "9e32d787",
   "metadata": {},
   "outputs": [],
   "source": [
    "import tkinter as tk\n",
    "import requests"
   ]
  },
  {
   "cell_type": "code",
   "execution_count": 2,
   "id": "421362b0",
   "metadata": {},
   "outputs": [],
   "source": [
    "root = tk.Tk()\n",
    "root.title(\"Random Quote Generator\")\n",
    "\n",
    "# Create the dropdown menu\n",
    "person_options = [\"Albert Einstein\", \"Nelson Mandela\", \"Steve Jobs\", \"Malala Yousafzai\", \"Maya Angelou\"]\n",
    "selected_person = tk.StringVar(root)\n",
    "selected_person.set(person_options[0])\n",
    "person_menu = tk.OptionMenu(root, selected_person, *person_options)\n",
    "person_menu.pack(pady=10)\n",
    "\n",
    "# Created label for the quote\n",
    "quote_label = tk.Label(root, font=(\"Arial\", 16), wraplength=400)\n",
    "quote_label.pack(pady=10)\n",
    "\n",
    "# get random quote from the API\n",
    "def fetch_quote():\n",
    "    person = selected_person.get()\n",
    "    response = requests.get(f\"https://api.quotable.io/random?author={person}\")\n",
    "    data = response.json()\n",
    "    quote_label.config(text=data[\"content\"])\n",
    "\n",
    "# Create a button for quote\n",
    "new_quote_button = tk.Button(root, text=\"new quote\", command=fetch_quote)\n",
    "new_quote_button.pack(pady=10)\n",
    "\n",
    "\n",
    "fetch_quote()\n",
    "\n",
    "root.mainloop()"
   ]
  },
  {
   "cell_type": "code",
   "execution_count": 2,
   "id": "54d9f6b6",
   "metadata": {},
   "outputs": [],
   "source": [
    "root = tk.Tk()\n",
    "root.title(\"Weather Forecast\")\n",
    "\n",
    "# Create labels for the forecast\n",
    "day1_label = tk.Label(root, font=(\"Verdana\", 17))\n",
    "day1_label.pack(pady=5)\n",
    "day2_label = tk.Label(root, font=(\"Verdana\", 17))\n",
    "day2_label.pack(pady=5)\n",
    "day3_label = tk.Label(root, font=(\"Verdana\", 17))\n",
    "day3_label.pack(pady=5)\n",
    "day4_label = tk.Label(root, font=(\"Verdana\", 17))\n",
    "day4_label.pack(pady=5)\n",
    "day5_label = tk.Label(root, font=(\"Verdana\", 17))\n",
    "day5_label.pack(pady=5)\n",
    "day6_label = tk.Label(root, font=(\"Verdana\", 17))\n",
    "day6_label.pack(pady=5)\n",
    "day7_label = tk.Label(root, font=(\"Verdana\", 17))\n",
    "day7_label.pack(pady=5)\n",
    "\n",
    "# Fetch the weather data\n",
    "# OKX/33,34 grid points for New york weather\n",
    "url = \"https://api.weather.gov/gridpoints/OKX/33,34/forecast\"\n",
    "r = requests.get(url)\n",
    "data = r.json()\n",
    "\n",
    "# Parse the weather data and update labels\n",
    "#eval is used to update correct label\n",
    "for i in range(7):\n",
    "    forecast = data[\"properties\"][\"periods\"][i]\n",
    "    label = eval(f\"day{i+1}_label\")\n",
    "    label.config(text=f\"{forecast['name']}: {forecast['detailedForecast']}\")\n",
    "\n",
    "root.mainloop()"
   ]
  },
  {
   "cell_type": "code",
   "execution_count": null,
   "id": "1edd029c",
   "metadata": {},
   "outputs": [],
   "source": []
  },
  {
   "cell_type": "code",
   "execution_count": null,
   "id": "3332eb5d",
   "metadata": {},
   "outputs": [],
   "source": []
  }
 ],
 "metadata": {
  "kernelspec": {
   "display_name": "Python 3",
   "language": "python",
   "name": "python3"
  },
  "language_info": {
   "codemirror_mode": {
    "name": "ipython",
    "version": 3
   },
   "file_extension": ".py",
   "mimetype": "text/x-python",
   "name": "python",
   "nbconvert_exporter": "python",
   "pygments_lexer": "ipython3",
   "version": "3.8.8"
  }
 },
 "nbformat": 4,
 "nbformat_minor": 5
}
