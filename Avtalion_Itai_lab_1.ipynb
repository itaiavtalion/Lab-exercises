{
  "nbformat": 4,
  "nbformat_minor": 0,
  "metadata": {
    "colab": {
      "provenance": []
    },
    "kernelspec": {
      "name": "python3",
      "display_name": "Python 3"
    },
    "language_info": {
      "name": "python"
    }
  },
  "cells": [
    {
      "cell_type": "markdown",
      "source": [
        "**Python Refresher Exercises**\n",
        "\n",
        "Lab 1 -- Please submit your exercises as a link to the file in your github account. If you have a private repository, [please follow the instructions](https://docs.github.com/en/account-and-profile/setting-up-and-managing-your-personal-account-on-github/managing-access-to-your-personal-repositories/inviting-collaborators-to-a-personal-repository) to add a collaborator to the repository. You should add bingcode@binghamton.edu as the collaborator.\n",
        "\n",
        "Make sure that you link any resources you use in a comment or docstring!"
      ],
      "metadata": {
        "id": "up8np1Nm1W9S"
      }
    },
    {
      "cell_type": "markdown",
      "source": [
        "1. See the list below. Please write a program that will tell you what the longest word is in the list. Package your program inside of a function.  "
      ],
      "metadata": {
        "id": "94J_lgOp2MRS"
      }
    },
    {
      "cell_type": "code",
      "execution_count": 1,
      "metadata": {
        "id": "qVCv4MW71TZk"
      },
      "outputs": [],
      "source": [
        "list = [\"apple\", \"chestnut\", \"gargoyles\", \"pandas\", \"sheep\", \"raptor\"]"
      ]
    },
    {
      "cell_type": "code",
      "source": [
        "longest_word = \"\"\n",
        "\n",
        "for word in list:\n",
        "  if len(word) > len(longest_word):\n",
        "    longest_word = word\n",
        "    \n",
        "print(longest_word)"
      ],
      "metadata": {
        "colab": {
          "base_uri": "https://localhost:8080/"
        },
        "id": "mfbIhkYfzit_",
        "outputId": "e8e1e597-db65-4d44-f458-be67ed8b99f5"
      },
      "execution_count": 2,
      "outputs": [
        {
          "output_type": "stream",
          "name": "stdout",
          "text": [
            "gargoyles\n"
          ]
        }
      ]
    },
    {
      "cell_type": "markdown",
      "source": [
        "2. Now that you have built the program above, in a new cell, edit your program: import a .txt file of a list of words and have your program randomly choose 7 words from the file to add to a list, and then have the program determine the longest word as you did above. "
      ],
      "metadata": {
        "id": "JQkv11AD6mtg"
      }
    },
    {
      "cell_type": "code",
      "source": [
        "#was unable to figure out how to import text file into my collab file.\n",
        "#i believe if i was able to the code below would work.\n",
        "import random \n",
        "sowpods = \"sowpods.txt\"\n",
        "\n",
        "def word_generator ():\n",
        "  filename = sowpods\n",
        "  f = open(filename, \"r\", encoding=\"utf8\")\n",
        "  words= f.readlines()\n",
        "  f.close()\n",
        "\n",
        "  return random.choice(words).strip()\n",
        "word_generator()\n",
        "\n",
        "longest_word = \"\"\n",
        "\n",
        "for word in word_generator:\n",
        "  if len(word) > len(longest_word):\n",
        "    longest_word = word\n",
        "    \n",
        "print(longest_word)"
      ],
      "metadata": {
        "colab": {
          "base_uri": "https://localhost:8080/",
          "height": 329
        },
        "id": "TRL6DW4lt-G-",
        "outputId": "57f65c8c-d01a-4f62-ae07-bc1ebb90c6f9"
      },
      "execution_count": null,
      "outputs": [
        {
          "output_type": "error",
          "ename": "FileNotFoundError",
          "evalue": "ignored",
          "traceback": [
            "\u001b[0;31m---------------------------------------------------------------------------\u001b[0m",
            "\u001b[0;31mFileNotFoundError\u001b[0m                         Traceback (most recent call last)",
            "\u001b[0;32m<ipython-input-4-1e0785c65561>\u001b[0m in \u001b[0;36m<module>\u001b[0;34m\u001b[0m\n\u001b[1;32m      9\u001b[0m \u001b[0;34m\u001b[0m\u001b[0m\n\u001b[1;32m     10\u001b[0m   \u001b[0;32mreturn\u001b[0m \u001b[0mrandom\u001b[0m\u001b[0;34m.\u001b[0m\u001b[0mchoice\u001b[0m\u001b[0;34m(\u001b[0m\u001b[0mwords\u001b[0m\u001b[0;34m)\u001b[0m\u001b[0;34m.\u001b[0m\u001b[0mstrip\u001b[0m\u001b[0;34m(\u001b[0m\u001b[0;34m)\u001b[0m\u001b[0;34m\u001b[0m\u001b[0;34m\u001b[0m\u001b[0m\n\u001b[0;32m---> 11\u001b[0;31m \u001b[0mword_generator\u001b[0m\u001b[0;34m(\u001b[0m\u001b[0;34m)\u001b[0m\u001b[0;34m\u001b[0m\u001b[0;34m\u001b[0m\u001b[0m\n\u001b[0m",
            "\u001b[0;32m<ipython-input-4-1e0785c65561>\u001b[0m in \u001b[0;36mword_generator\u001b[0;34m()\u001b[0m\n\u001b[1;32m      4\u001b[0m \u001b[0;32mdef\u001b[0m \u001b[0mword_generator\u001b[0m \u001b[0;34m(\u001b[0m\u001b[0;34m)\u001b[0m\u001b[0;34m:\u001b[0m\u001b[0;34m\u001b[0m\u001b[0;34m\u001b[0m\u001b[0m\n\u001b[1;32m      5\u001b[0m   \u001b[0mfilename\u001b[0m \u001b[0;34m=\u001b[0m \u001b[0msowpods\u001b[0m\u001b[0;34m\u001b[0m\u001b[0;34m\u001b[0m\u001b[0m\n\u001b[0;32m----> 6\u001b[0;31m   \u001b[0mf\u001b[0m \u001b[0;34m=\u001b[0m \u001b[0mopen\u001b[0m\u001b[0;34m(\u001b[0m\u001b[0mfilename\u001b[0m\u001b[0;34m,\u001b[0m \u001b[0;34m\"r\"\u001b[0m\u001b[0;34m,\u001b[0m \u001b[0mencoding\u001b[0m\u001b[0;34m=\u001b[0m\u001b[0;34m\"utf8\"\u001b[0m\u001b[0;34m)\u001b[0m\u001b[0;34m\u001b[0m\u001b[0;34m\u001b[0m\u001b[0m\n\u001b[0m\u001b[1;32m      7\u001b[0m   \u001b[0mwords\u001b[0m\u001b[0;34m=\u001b[0m \u001b[0mf\u001b[0m\u001b[0;34m.\u001b[0m\u001b[0mreadlines\u001b[0m\u001b[0;34m(\u001b[0m\u001b[0;34m)\u001b[0m\u001b[0;34m\u001b[0m\u001b[0;34m\u001b[0m\u001b[0m\n\u001b[1;32m      8\u001b[0m   \u001b[0mf\u001b[0m\u001b[0;34m.\u001b[0m\u001b[0mclose\u001b[0m\u001b[0;34m(\u001b[0m\u001b[0;34m)\u001b[0m\u001b[0;34m\u001b[0m\u001b[0;34m\u001b[0m\u001b[0m\n",
            "\u001b[0;31mFileNotFoundError\u001b[0m: [Errno 2] No such file or directory: 'sowpods.txt'"
          ]
        }
      ]
    },
    {
      "cell_type": "code",
      "source": [],
      "metadata": {
        "id": "ezDtJK4Svuef"
      },
      "execution_count": null,
      "outputs": []
    },
    {
      "cell_type": "markdown",
      "source": [
        "3. Pretend that you're going to be leading a review session on dictionaries. Build a program that uses dictionaries and incorporates at least 4 built-in methods. [See full list on W3Schools](https://www.w3schools.com/python/python_ref_dictionary.asp) "
      ],
      "metadata": {
        "id": "ixo1erOp5U3b"
      }
    },
    {
      "cell_type": "code",
      "source": [
        "watch_dict = {         #we created a dictionary about cars with key and value pairs,\n",
        "  \"brand\": \"Rolex\",\n",
        "  \"model\": \"DateJust\",\n",
        "  \"year\": 1994\n",
        "}\n",
        "#here you will see some built in methods.\n",
        "\n",
        "watch_dict.update({\"color\": \"White\"}) #the update method inserts the specified items to the dictionary.\n",
        "\n",
        "watch_dict.pop(\"model\") #the pop method removes the specified item from the dictionary.\n",
        "\n",
        "x = watch_dict.values() #the values method returns a view object\n",
        "\n",
        "y = watch_dict.copy() #copy method returns a copy of the specified dictionary.\n",
        "\n",
        "print(x)\n",
        "print(y)"
      ],
      "metadata": {
        "id": "8EP_RpE70vom",
        "colab": {
          "base_uri": "https://localhost:8080/"
        },
        "outputId": "a030be96-40e8-4f58-87f7-0b8d1b0572b5"
      },
      "execution_count": 4,
      "outputs": [
        {
          "output_type": "stream",
          "name": "stdout",
          "text": [
            "dict_values(['Rolex', 1994, 'White'])\n",
            "{'brand': 'Rolex', 'year': 1994, 'color': 'White'}\n"
          ]
        }
      ]
    },
    {
      "cell_type": "markdown",
      "source": [
        "4. Using OOP, I want you to build one of the following things. As part of the excerise, please write out your brainstorming process in a comment or markdown cell:\n",
        "\n",
        "\n",
        "*   A system to manage a student's school record (would need a way to gather/store personal information, record grades, record GPA, etc.)\n",
        "*   A class that allows you to create your own flashcards & then allows you to review them (this would work best with language cards - like one word is in Spanish, one in English)\n",
        "*   A class (or series of classes) to correspond with a gameplay (for example, a fighter class, a bard class, a wizard class)\n",
        "\n"
      ],
      "metadata": {
        "id": "zSQ2TTKp63lt"
      }
    },
    {
      "cell_type": "code",
      "source": [
        "class Character:\n",
        "    def __init__(self,health , size, name, intelligence):\n",
        "        self.health = health\n",
        "        self.size = size \n",
        "        self.name = name \n",
        "        self.intelligence = intelligence \n",
        "    def Character_size(self):\n",
        "        if self.size > 55:\n",
        "            print(f\"{self.name} is a large character\")\n",
        "        if self.size < 55:\n",
        "            print(f\"{self.name} is a small character\")\n",
        "    \n",
        "    def Character_intel(self):\n",
        "        if self.intelligence > 70:\n",
        "            print(f\"{self.name}'s intelligence is suburb\")\n",
        "        if self.intelligence < 70:\n",
        "            print(f\"{self.name}'s intelligence is minimal\")\n",
        "\n",
        "class Mage(Character):\n",
        "    \n",
        "    def __init__(self, health, size, name, intelligence, weapon, magic):\n",
        "        super().__init__(health, size, name, intelligence)\n",
        "        self.weapon = weapon\n",
        "        self.magic = magic\n",
        "\n",
        "    def weapon_info(self):\n",
        "            print(f\"{self.weapon} is a great weapon for {self.name}\")\n",
        "   \n",
        "    def Character_intel(self):\n",
        "        if self.intelligence > 70:\n",
        "            print(f\"{self.name}'s intelligence is suburb\")\n",
        "        if self.intelligence < 70:\n",
        "            print(f\"{self.name}'s intelligence is minimal\")\n",
        "            \n",
        "\n",
        "class Knight(Character):\n",
        "    \n",
        "    def __init__(self, health, size, name, intelligence, weapon, magic, armor_strength):\n",
        "        super().__init__(health, size, name, intelligence)\n",
        "        self.weapon = weapon\n",
        "        self.armor_strength = armor_strength\n",
        "        \n",
        "    def weapon_info(self):\n",
        "            print(f\"{self.weapon} is a great weapon for {self.name}\")\n",
        "            \n",
        "    def armor_info(self):\n",
        "        \n",
        "        if self.armor_strength > 45: \n",
        "            print(f\"your {self.name} has strong armor\")\n",
        "        if self.armor_strength < 45: \n",
        "            print(f\"your {self.name} has weak armor\")\n",
        "            \n",
        "p1 = Character(\"120hp\",100, \"gandoff\",85)\n",
        "p2 = Mage(\"146hp\",58, \"pete\", 85, \"wand\", \"+35\")\n",
        "p3 = Knight(\"146hp\",58, \"gander\", 85, \"sword\", \"0\",50)\n",
        "p1.Character_size()\n",
        "p2.Character_intel()\n"
      ],
      "metadata": {
        "colab": {
          "base_uri": "https://localhost:8080/"
        },
        "id": "B0hxeOow4jmM",
        "outputId": "39673501-2bd8-4cbe-d0a8-8905ddc501a0"
      },
      "execution_count": 7,
      "outputs": [
        {
          "output_type": "stream",
          "name": "stdout",
          "text": [
            "gandoff is a large character\n",
            "pete's intelligence is suburb\n"
          ]
        }
      ]
    },
    {
      "cell_type": "markdown",
      "source": [
        "5. Finalize your Hangman program and submit it. Include any necessary comments and explain what you had \"refreshed\" by building it in class. If appropriate, use functions or OOP to package the pieces of your code. "
      ],
      "metadata": {
        "id": "O1qRb8-59tMZ"
      }
    },
    {
      "cell_type": "code",
      "source": [
        "print(\"Lets play Hangman!\")\n",
        "word = (\"fruitful\")\n",
        "guesses = \"\"\n",
        "turns = 8\n",
        "#create a loop to start the game\n",
        "while turns > 0:\n",
        "  failed = 0\n",
        "  for char in word:\n",
        "    if char in guesses:\n",
        "      print (char, end=\"\"),\n",
        "    else:\n",
        "      print(\"_\", end=\"\"), #if the letter is not found a _ will be typed\n",
        "      failed += 1 \n",
        "  if failed == 0:\n",
        "    print (\"YOU WIN!\") \n",
        "    \n",
        "  \n",
        "  guess = input(\"guess a charcter\")\n",
        "  guesses += guess #adds the letter to the guesses list\n",
        "  print(guesses)\n",
        "\n",
        "  if guess not in word:\n",
        "    turns -= 1 \n",
        "    print(\"WRONG\")\n",
        "\n",
        "    if turns == 0:\n",
        "      print(\"you lose\")\n",
        "  "
      ],
      "metadata": {
        "id": "6EOIvSkwsQfd",
        "colab": {
          "base_uri": "https://localhost:8080/"
        },
        "outputId": "fd55c2a0-e089-40c4-8e3a-6c08aab4e190"
      },
      "execution_count": null,
      "outputs": [
        {
          "output_type": "stream",
          "name": "stdout",
          "text": [
            "Lets play Hangman!\n",
            "________"
          ]
        }
      ]
    }
  ]
}