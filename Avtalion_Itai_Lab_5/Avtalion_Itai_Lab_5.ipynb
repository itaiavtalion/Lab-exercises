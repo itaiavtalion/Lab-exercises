{
 "cells": [
  {
   "cell_type": "code",
   "execution_count": 62,
   "id": "15b3e9a3",
   "metadata": {},
   "outputs": [],
   "source": [
    "import selenium\n",
    "import time\n",
    "import csv\n",
    "import pandas as pd"
   ]
  },
  {
   "cell_type": "code",
   "execution_count": 13,
   "id": "e245422e",
   "metadata": {},
   "outputs": [
    {
     "name": "stdout",
     "output_type": "stream",
     "text": [
      "Requirement already satisfied: selenium in ./opt/anaconda3/lib/python3.8/site-packages (4.8.2)\n",
      "Requirement already satisfied: certifi>=2021.10.8 in ./opt/anaconda3/lib/python3.8/site-packages (from selenium) (2022.12.7)\n",
      "Requirement already satisfied: trio-websocket~=0.9 in ./opt/anaconda3/lib/python3.8/site-packages (from selenium) (0.10.0)\n",
      "Requirement already satisfied: trio~=0.17 in ./opt/anaconda3/lib/python3.8/site-packages (from selenium) (0.22.0)\n",
      "Requirement already satisfied: urllib3[socks]~=1.26 in ./opt/anaconda3/lib/python3.8/site-packages (from selenium) (1.26.4)\n",
      "Requirement already satisfied: sniffio in ./opt/anaconda3/lib/python3.8/site-packages (from trio~=0.17->selenium) (1.2.0)\n",
      "Requirement already satisfied: async-generator>=1.9 in ./opt/anaconda3/lib/python3.8/site-packages (from trio~=0.17->selenium) (1.10)\n",
      "Requirement already satisfied: outcome in ./opt/anaconda3/lib/python3.8/site-packages (from trio~=0.17->selenium) (1.2.0)\n",
      "Requirement already satisfied: sortedcontainers in ./opt/anaconda3/lib/python3.8/site-packages (from trio~=0.17->selenium) (2.3.0)\n",
      "Requirement already satisfied: attrs>=19.2.0 in ./opt/anaconda3/lib/python3.8/site-packages (from trio~=0.17->selenium) (20.3.0)\n",
      "Requirement already satisfied: idna in ./opt/anaconda3/lib/python3.8/site-packages (from trio~=0.17->selenium) (2.10)\n",
      "Requirement already satisfied: exceptiongroup>=1.0.0rc9 in ./opt/anaconda3/lib/python3.8/site-packages (from trio~=0.17->selenium) (1.1.1)\n",
      "Requirement already satisfied: wsproto>=0.14 in ./opt/anaconda3/lib/python3.8/site-packages (from trio-websocket~=0.9->selenium) (1.2.0)\n",
      "Requirement already satisfied: PySocks!=1.5.7,<2.0,>=1.5.6 in ./opt/anaconda3/lib/python3.8/site-packages (from urllib3[socks]~=1.26->selenium) (1.7.1)\n",
      "Requirement already satisfied: h11<1,>=0.9.0 in ./opt/anaconda3/lib/python3.8/site-packages (from wsproto>=0.14->trio-websocket~=0.9->selenium) (0.14.0)\n"
     ]
    }
   ],
   "source": [
    "! pip install selenium"
   ]
  },
  {
   "cell_type": "code",
   "execution_count": 49,
   "id": "2138de1a",
   "metadata": {},
   "outputs": [],
   "source": [
    "from selenium import webdriver\n",
    "from selenium.webdriver.chrome.service import Service\n",
    "from selenium.webdriver.common.keys import Keys\n",
    "from selenium.webdriver.common.by import By\n",
    "from selenium.webdriver.support.ui import WebDriverWait\n",
    "from selenium.webdriver.support import expected_conditions as EC\n",
    "from bs4 import BeautifulSoup"
   ]
  },
  {
   "cell_type": "code",
   "execution_count": 50,
   "id": "949db005",
   "metadata": {},
   "outputs": [],
   "source": [
    "PATH = Service(\"/Users/itaiavtalion/Desktop/selenium folder/chromedriver\\chromedriver.exe\") #path to chrome-driver\n",
    "\n",
    "\n",
    "driver = webdriver.Chrome(service=PATH)\n",
    "\n",
    "driver.get(\"https://techwithtim.net\") #practice link\n",
    "\n",
    "link = driver.find_element(By.LINK_TEXT,'Python Programming')\n",
    "link.click()\n",
    "\n",
    "try:\n",
    "    element = WebDriverWait(driver, 10).until(  \n",
    "    EC.presence_of_element_located((By.LINK_TEXT, \"Beginner Python Tutorials\")) #locates link text\n",
    "    )\n",
    "    element.click()\n",
    "    \n",
    "    element = WebDriverWait(driver, 10).until(  \n",
    "    EC.presence_of_element_located((By.ID, \"sow-button-19310003\")) #locates link text\n",
    "    )\n",
    "    element.click()\n",
    "    \n",
    "    driver.back()        #go back 3 pages and go forward 2 pages\n",
    "    driver.back()\n",
    "    driver.back()\n",
    "    driver.forward()\n",
    "    driver.forward()\n",
    "       \n",
    "except:\n",
    "        driver.quit()\n"
   ]
  },
  {
   "cell_type": "code",
   "execution_count": 66,
   "id": "49225446",
   "metadata": {},
   "outputs": [
    {
     "name": "stdout",
     "output_type": "stream",
     "text": [
      "<generator object <genexpr> at 0x11f02e580>\n"
     ]
    }
   ],
   "source": [
    "#wikipedia option\n",
    "csv_file = open(\"Wiki.csv\", \"w\", newline=\"\", encoding=\"utf-8\")\n",
    "csv_writer = csv.writer(csv_file)\n",
    "csv_writer.writerow([\"headline\", \"summary\"])\n",
    "\n",
    "\n",
    "\n",
    "PATH2 = Service(\"/Users/itaiavtalion/Desktop/selenium folder/chromedriver\\chromedriver.exe\")\n",
    "\n",
    "driver = webdriver.Chrome(service=PATH)\n",
    "\n",
    "driver.get(\"https://www.wikipedia.org/\") #practice link\n",
    "\n",
    "search = driver.find_element(By.NAME,'search')\n",
    "search.send_keys(\"cat\")\n",
    "search.send_keys(Keys.RETURN)\n",
    "\n",
    "html = driver.page_source\n",
    "soup = BeautifulSoup(html, \"html.parser\")\n",
    "\n",
    "image_tags = soup.find_all(\"img\")\n",
    "image_urls = (tag(\"src\") for tag in image_tags)\n",
    "print(image_urls)\n",
    "\n",
    "driver.quit()\n",
    "\n",
    "csv_writer.writerow([driver])\n",
    "\n",
    "csv_file.close()"
   ]
  },
  {
   "cell_type": "code",
   "execution_count": null,
   "id": "ecca8ca9",
   "metadata": {},
   "outputs": [],
   "source": []
  }
 ],
 "metadata": {
  "kernelspec": {
   "display_name": "Python 3",
   "language": "python",
   "name": "python3"
  },
  "language_info": {
   "codemirror_mode": {
    "name": "ipython",
    "version": 3
   },
   "file_extension": ".py",
   "mimetype": "text/x-python",
   "name": "python",
   "nbconvert_exporter": "python",
   "pygments_lexer": "ipython3",
   "version": "3.8.8"
  }
 },
 "nbformat": 4,
 "nbformat_minor": 5
}
